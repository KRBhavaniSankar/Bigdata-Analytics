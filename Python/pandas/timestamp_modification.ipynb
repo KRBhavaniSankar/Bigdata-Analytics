{
 "cells": [
  {
   "cell_type": "code",
   "execution_count": 29,
   "metadata": {},
   "outputs": [],
   "source": [
    "import pandas as pd\n",
    "import datetime as dt"
   ]
  },
  {
   "cell_type": "code",
   "execution_count": 30,
   "metadata": {},
   "outputs": [
    {
     "data": {
      "text/plain": [
       "(42822, 4)"
      ]
     },
     "execution_count": 30,
     "metadata": {},
     "output_type": "execute_result"
    }
   ],
   "source": [
    "df = pd.read_csv(path)\n",
    "df.shape"
   ]
  },
  {
   "cell_type": "code",
   "execution_count": 31,
   "metadata": {},
   "outputs": [
    {
     "data": {
      "text/html": [
       "<div>\n",
       "<style scoped>\n",
       "    .dataframe tbody tr th:only-of-type {\n",
       "        vertical-align: middle;\n",
       "    }\n",
       "\n",
       "    .dataframe tbody tr th {\n",
       "        vertical-align: top;\n",
       "    }\n",
       "\n",
       "    .dataframe thead th {\n",
       "        text-align: right;\n",
       "    }\n",
       "</style>\n",
       "<table border=\"1\" class=\"dataframe\">\n",
       "  <thead>\n",
       "    <tr style=\"text-align: right;\">\n",
       "      <th></th>\n",
       "      <th>imei</th>\n",
       "      <th>AdID</th>\n",
       "      <th>timestamp</th>\n",
       "    </tr>\n",
       "  </thead>\n",
       "  <tbody>\n",
       "    <tr>\n",
       "      <th>0</th>\n",
       "      <td>04G0LT445QLQT5NTP40L5TPG</td>\n",
       "      <td>28075d03-b93c-4fb6-830e-b56521c50248</td>\n",
       "      <td>2018-06-01T16:57:55.000Z</td>\n",
       "    </tr>\n",
       "    <tr>\n",
       "      <th>1</th>\n",
       "      <td>04G5NNOJ5QONQ5JTP4LG5TPQ</td>\n",
       "      <td>10e21cbe-9284-423b-8338-a38cbe23d459</td>\n",
       "      <td>2018-12-27T11:59:50.000Z</td>\n",
       "    </tr>\n",
       "    <tr>\n",
       "      <th>2</th>\n",
       "      <td>04GG4TT55JTL05QTP4LJ5TPG</td>\n",
       "      <td>fac98d45-50b9-43c3-beb2-990e6348f5dd</td>\n",
       "      <td>2018-06-17T19:26:50.000Z</td>\n",
       "    </tr>\n",
       "    <tr>\n",
       "      <th>3</th>\n",
       "      <td>04GLNLG45OTNQ4QTP4N4TTPG</td>\n",
       "      <td>58e88563-79fd-43eb-a3ca-df5197e56372</td>\n",
       "      <td>2018-10-09T16:26:55.000Z</td>\n",
       "    </tr>\n",
       "    <tr>\n",
       "      <th>4</th>\n",
       "      <td>04GLNLG45OTNQ4QTP4N4TTPG</td>\n",
       "      <td>58e88563-79fd-43eb-a3ca-df5197e56372</td>\n",
       "      <td>2018-11-16T12:31:14.000Z</td>\n",
       "    </tr>\n",
       "  </tbody>\n",
       "</table>\n",
       "</div>"
      ],
      "text/plain": [
       "                       imei                                  AdID  \\\n",
       "0  04G0LT445QLQT5NTP40L5TPG  28075d03-b93c-4fb6-830e-b56521c50248   \n",
       "1  04G5NNOJ5QONQ5JTP4LG5TPQ  10e21cbe-9284-423b-8338-a38cbe23d459   \n",
       "2  04GG4TT55JTL05QTP4LJ5TPG  fac98d45-50b9-43c3-beb2-990e6348f5dd   \n",
       "3  04GLNLG45OTNQ4QTP4N4TTPG  58e88563-79fd-43eb-a3ca-df5197e56372   \n",
       "4  04GLNLG45OTNQ4QTP4N4TTPG  58e88563-79fd-43eb-a3ca-df5197e56372   \n",
       "\n",
       "                  timestamp  \n",
       "0  2018-06-01T16:57:55.000Z  \n",
       "1  2018-12-27T11:59:50.000Z  \n",
       "2  2018-06-17T19:26:50.000Z  \n",
       "3  2018-10-09T16:26:55.000Z  \n",
       "4  2018-11-16T12:31:14.000Z  "
      ]
     },
     "execution_count": 31,
     "metadata": {},
     "output_type": "execute_result"
    }
   ],
   "source": [
    "df = df[['imei','AdID','timestamp']]\n",
    "df.head(5)"
   ]
  },
  {
   "cell_type": "code",
   "execution_count": 32,
   "metadata": {},
   "outputs": [
    {
     "data": {
      "text/html": [
       "<div>\n",
       "<style scoped>\n",
       "    .dataframe tbody tr th:only-of-type {\n",
       "        vertical-align: middle;\n",
       "    }\n",
       "\n",
       "    .dataframe tbody tr th {\n",
       "        vertical-align: top;\n",
       "    }\n",
       "\n",
       "    .dataframe thead th {\n",
       "        text-align: right;\n",
       "    }\n",
       "</style>\n",
       "<table border=\"1\" class=\"dataframe\">\n",
       "  <thead>\n",
       "    <tr style=\"text-align: right;\">\n",
       "      <th></th>\n",
       "      <th>imei</th>\n",
       "      <th>AdID</th>\n",
       "      <th>time</th>\n",
       "      <th>hour_before</th>\n",
       "    </tr>\n",
       "  </thead>\n",
       "  <tbody>\n",
       "    <tr>\n",
       "      <th>0</th>\n",
       "      <td>04G0LT445QLQT5NTP40L5TPG</td>\n",
       "      <td>28075d03-b93c-4fb6-830e-b56521c50248</td>\n",
       "      <td>2018-06-01 16:57:55</td>\n",
       "      <td>2018-06-01 15:57:55</td>\n",
       "    </tr>\n",
       "    <tr>\n",
       "      <th>1</th>\n",
       "      <td>04G5NNOJ5QONQ5JTP4LG5TPQ</td>\n",
       "      <td>10e21cbe-9284-423b-8338-a38cbe23d459</td>\n",
       "      <td>2018-12-27 11:59:50</td>\n",
       "      <td>2018-12-27 10:59:50</td>\n",
       "    </tr>\n",
       "    <tr>\n",
       "      <th>2</th>\n",
       "      <td>04GG4TT55JTL05QTP4LJ5TPG</td>\n",
       "      <td>fac98d45-50b9-43c3-beb2-990e6348f5dd</td>\n",
       "      <td>2018-06-17 19:26:50</td>\n",
       "      <td>2018-06-17 18:26:50</td>\n",
       "    </tr>\n",
       "    <tr>\n",
       "      <th>3</th>\n",
       "      <td>04GLNLG45OTNQ4QTP4N4TTPG</td>\n",
       "      <td>58e88563-79fd-43eb-a3ca-df5197e56372</td>\n",
       "      <td>2018-10-09 16:26:55</td>\n",
       "      <td>2018-10-09 15:26:55</td>\n",
       "    </tr>\n",
       "    <tr>\n",
       "      <th>4</th>\n",
       "      <td>04GLNLG45OTNQ4QTP4N4TTPG</td>\n",
       "      <td>58e88563-79fd-43eb-a3ca-df5197e56372</td>\n",
       "      <td>2018-11-16 12:31:14</td>\n",
       "      <td>2018-11-16 11:31:14</td>\n",
       "    </tr>\n",
       "  </tbody>\n",
       "</table>\n",
       "</div>"
      ],
      "text/plain": [
       "                       imei                                  AdID  \\\n",
       "0  04G0LT445QLQT5NTP40L5TPG  28075d03-b93c-4fb6-830e-b56521c50248   \n",
       "1  04G5NNOJ5QONQ5JTP4LG5TPQ  10e21cbe-9284-423b-8338-a38cbe23d459   \n",
       "2  04GG4TT55JTL05QTP4LJ5TPG  fac98d45-50b9-43c3-beb2-990e6348f5dd   \n",
       "3  04GLNLG45OTNQ4QTP4N4TTPG  58e88563-79fd-43eb-a3ca-df5197e56372   \n",
       "4  04GLNLG45OTNQ4QTP4N4TTPG  58e88563-79fd-43eb-a3ca-df5197e56372   \n",
       "\n",
       "                 time         hour_before  \n",
       "0 2018-06-01 16:57:55 2018-06-01 15:57:55  \n",
       "1 2018-12-27 11:59:50 2018-12-27 10:59:50  \n",
       "2 2018-06-17 19:26:50 2018-06-17 18:26:50  \n",
       "3 2018-10-09 16:26:55 2018-10-09 15:26:55  \n",
       "4 2018-11-16 12:31:14 2018-11-16 11:31:14  "
      ]
     },
     "execution_count": 32,
     "metadata": {},
     "output_type": "execute_result"
    }
   ],
   "source": [
    "from datetime import datetime, timedelta\n",
    "df['time'] = pd.DatetimeIndex(df['timestamp']) - timedelta(hours=0)\n",
    "df['hour_before']= pd.DatetimeIndex(df['timestamp']) - timedelta(hours=1)\n",
    "df = df[['imei','AdID','time','hour_before']]\n",
    "df.head(5)"
   ]
  },
  {
   "cell_type": "code",
   "execution_count": 33,
   "metadata": {},
   "outputs": [
    {
     "data": {
      "text/html": [
       "<div>\n",
       "<style scoped>\n",
       "    .dataframe tbody tr th:only-of-type {\n",
       "        vertical-align: middle;\n",
       "    }\n",
       "\n",
       "    .dataframe tbody tr th {\n",
       "        vertical-align: top;\n",
       "    }\n",
       "\n",
       "    .dataframe thead th {\n",
       "        text-align: right;\n",
       "    }\n",
       "</style>\n",
       "<table border=\"1\" class=\"dataframe\">\n",
       "  <thead>\n",
       "    <tr style=\"text-align: right;\">\n",
       "      <th></th>\n",
       "      <th>imei</th>\n",
       "      <th>AdID</th>\n",
       "      <th>time</th>\n",
       "      <th>hour_before</th>\n",
       "      <th>ymd</th>\n",
       "    </tr>\n",
       "  </thead>\n",
       "  <tbody>\n",
       "    <tr>\n",
       "      <th>0</th>\n",
       "      <td>04G0LT445QLQT5NTP40L5TPG</td>\n",
       "      <td>28075d03-b93c-4fb6-830e-b56521c50248</td>\n",
       "      <td>2018-06-01 16:57:55</td>\n",
       "      <td>2018-06-01 15:57:55</td>\n",
       "      <td>2018-06-01</td>\n",
       "    </tr>\n",
       "    <tr>\n",
       "      <th>1</th>\n",
       "      <td>04G5NNOJ5QONQ5JTP4LG5TPQ</td>\n",
       "      <td>10e21cbe-9284-423b-8338-a38cbe23d459</td>\n",
       "      <td>2018-12-27 11:59:50</td>\n",
       "      <td>2018-12-27 10:59:50</td>\n",
       "      <td>2018-12-27</td>\n",
       "    </tr>\n",
       "    <tr>\n",
       "      <th>2</th>\n",
       "      <td>04GG4TT55JTL05QTP4LJ5TPG</td>\n",
       "      <td>fac98d45-50b9-43c3-beb2-990e6348f5dd</td>\n",
       "      <td>2018-06-17 19:26:50</td>\n",
       "      <td>2018-06-17 18:26:50</td>\n",
       "      <td>2018-06-17</td>\n",
       "    </tr>\n",
       "    <tr>\n",
       "      <th>3</th>\n",
       "      <td>04GLNLG45OTNQ4QTP4N4TTPG</td>\n",
       "      <td>58e88563-79fd-43eb-a3ca-df5197e56372</td>\n",
       "      <td>2018-10-09 16:26:55</td>\n",
       "      <td>2018-10-09 15:26:55</td>\n",
       "      <td>2018-10-09</td>\n",
       "    </tr>\n",
       "    <tr>\n",
       "      <th>4</th>\n",
       "      <td>04GLNLG45OTNQ4QTP4N4TTPG</td>\n",
       "      <td>58e88563-79fd-43eb-a3ca-df5197e56372</td>\n",
       "      <td>2018-11-16 12:31:14</td>\n",
       "      <td>2018-11-16 11:31:14</td>\n",
       "      <td>2018-11-16</td>\n",
       "    </tr>\n",
       "    <tr>\n",
       "      <th>5</th>\n",
       "      <td>04GLNLG45OTNQ4QTP4N4TTPG</td>\n",
       "      <td>58e88563-79fd-43eb-a3ca-df5197e56372</td>\n",
       "      <td>2018-11-16 12:31:14</td>\n",
       "      <td>2018-11-16 11:31:14</td>\n",
       "      <td>2018-11-16</td>\n",
       "    </tr>\n",
       "    <tr>\n",
       "      <th>6</th>\n",
       "      <td>04GLNLG45OTNQ4QTP4N4TTPG</td>\n",
       "      <td>58e88563-79fd-43eb-a3ca-df5197e56372</td>\n",
       "      <td>2018-11-14 14:53:39</td>\n",
       "      <td>2018-11-14 13:53:39</td>\n",
       "      <td>2018-11-14</td>\n",
       "    </tr>\n",
       "    <tr>\n",
       "      <th>7</th>\n",
       "      <td>04GNG0GJ5LQ40TGTP4QN5TP0</td>\n",
       "      <td>b1fc5946-35bc-4f7e-98bb-baceabec78c2</td>\n",
       "      <td>2018-08-28 19:15:36</td>\n",
       "      <td>2018-08-28 18:15:36</td>\n",
       "      <td>2018-08-28</td>\n",
       "    </tr>\n",
       "    <tr>\n",
       "      <th>8</th>\n",
       "      <td>04GQJQLO55GQNTQTP4O5TTPJ</td>\n",
       "      <td>995186aa-a6aa-4188-ac05-3d50b44d8084</td>\n",
       "      <td>2018-11-02 11:29:37</td>\n",
       "      <td>2018-11-02 10:29:37</td>\n",
       "      <td>2018-11-02</td>\n",
       "    </tr>\n",
       "    <tr>\n",
       "      <th>9</th>\n",
       "      <td>04GQO4GQ5TQGGT4TP4NN5TPL</td>\n",
       "      <td>cb9112ea-d618-43c0-8d6f-ba8fa4e0364a</td>\n",
       "      <td>2018-10-04 20:01:16</td>\n",
       "      <td>2018-10-04 19:01:16</td>\n",
       "      <td>2018-10-04</td>\n",
       "    </tr>\n",
       "  </tbody>\n",
       "</table>\n",
       "</div>"
      ],
      "text/plain": [
       "                       imei                                  AdID  \\\n",
       "0  04G0LT445QLQT5NTP40L5TPG  28075d03-b93c-4fb6-830e-b56521c50248   \n",
       "1  04G5NNOJ5QONQ5JTP4LG5TPQ  10e21cbe-9284-423b-8338-a38cbe23d459   \n",
       "2  04GG4TT55JTL05QTP4LJ5TPG  fac98d45-50b9-43c3-beb2-990e6348f5dd   \n",
       "3  04GLNLG45OTNQ4QTP4N4TTPG  58e88563-79fd-43eb-a3ca-df5197e56372   \n",
       "4  04GLNLG45OTNQ4QTP4N4TTPG  58e88563-79fd-43eb-a3ca-df5197e56372   \n",
       "5  04GLNLG45OTNQ4QTP4N4TTPG  58e88563-79fd-43eb-a3ca-df5197e56372   \n",
       "6  04GLNLG45OTNQ4QTP4N4TTPG  58e88563-79fd-43eb-a3ca-df5197e56372   \n",
       "7  04GNG0GJ5LQ40TGTP4QN5TP0  b1fc5946-35bc-4f7e-98bb-baceabec78c2   \n",
       "8  04GQJQLO55GQNTQTP4O5TTPJ  995186aa-a6aa-4188-ac05-3d50b44d8084   \n",
       "9  04GQO4GQ5TQGGT4TP4NN5TPL  cb9112ea-d618-43c0-8d6f-ba8fa4e0364a   \n",
       "\n",
       "                 time         hour_before         ymd  \n",
       "0 2018-06-01 16:57:55 2018-06-01 15:57:55  2018-06-01  \n",
       "1 2018-12-27 11:59:50 2018-12-27 10:59:50  2018-12-27  \n",
       "2 2018-06-17 19:26:50 2018-06-17 18:26:50  2018-06-17  \n",
       "3 2018-10-09 16:26:55 2018-10-09 15:26:55  2018-10-09  \n",
       "4 2018-11-16 12:31:14 2018-11-16 11:31:14  2018-11-16  \n",
       "5 2018-11-16 12:31:14 2018-11-16 11:31:14  2018-11-16  \n",
       "6 2018-11-14 14:53:39 2018-11-14 13:53:39  2018-11-14  \n",
       "7 2018-08-28 19:15:36 2018-08-28 18:15:36  2018-08-28  \n",
       "8 2018-11-02 11:29:37 2018-11-02 10:29:37  2018-11-02  \n",
       "9 2018-10-04 20:01:16 2018-10-04 19:01:16  2018-10-04  "
      ]
     },
     "execution_count": 33,
     "metadata": {},
     "output_type": "execute_result"
    }
   ],
   "source": [
    "df['ymd'] = df['time'].dt.date\n",
    "df.head(10)"
   ]
  },
  {
   "cell_type": "code",
   "execution_count": 35,
   "metadata": {},
   "outputs": [
    {
     "data": {
      "text/plain": [
       "imei                   object\n",
       "AdID                   object\n",
       "time           datetime64[ns]\n",
       "hour_before    datetime64[ns]\n",
       "ymd                    object\n",
       "dtype: object"
      ]
     },
     "execution_count": 35,
     "metadata": {},
     "output_type": "execute_result"
    }
   ],
   "source": [
    "df.dtypes"
   ]
  },
  {
   "cell_type": "code",
   "execution_count": 38,
   "metadata": {},
   "outputs": [],
   "source": [
    "output = '/Users/bhavani.sankar/Desktop/Proj/Asurion/Tasks/Homma/17_bigquery_data_extraction/python_day_wise'\n",
    "for i, x in df.groupby(df['ymd']):\n",
    "    x.to_csv('{}/{}.csv'.format(output,i), index=False)"
   ]
  },
  {
   "cell_type": "code",
   "execution_count": null,
   "metadata": {},
   "outputs": [],
   "source": []
  }
 ],
 "metadata": {
  "kernelspec": {
   "display_name": "Python 3",
   "language": "python",
   "name": "python3"
  },
  "language_info": {
   "codemirror_mode": {
    "name": "ipython",
    "version": 3
   },
   "file_extension": ".py",
   "mimetype": "text/x-python",
   "name": "python",
   "nbconvert_exporter": "python",
   "pygments_lexer": "ipython3",
   "version": "3.7.1"
  }
 },
 "nbformat": 4,
 "nbformat_minor": 2
}

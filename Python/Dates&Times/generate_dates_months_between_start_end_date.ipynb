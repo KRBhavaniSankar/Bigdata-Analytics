{
 "cells": [
  {
   "cell_type": "code",
   "execution_count": 89,
   "metadata": {},
   "outputs": [],
   "source": [
    "from datetime import datetime\n",
    "from datetime import timedelta\n",
    "from collections import OrderedDict"
   ]
  },
  {
   "cell_type": "code",
   "execution_count": 77,
   "metadata": {},
   "outputs": [],
   "source": [
    "start_month = '201906'\n",
    "end_month= '201910'\n",
    "start_month_ts = datetime.strptime(start_month,'%Y%m')\n",
    "end_month_ts = datetime.strptime(end_month,'%Y%m')"
   ]
  },
  {
   "cell_type": "code",
   "execution_count": 78,
   "metadata": {},
   "outputs": [
    {
     "name": "stdout",
     "output_type": "stream",
     "text": [
      "actual time : 2019-06-01 00:00:00\n",
      "date : 2019-06-01\n",
      "time : 00:00:00\n",
      "hour : 0\n",
      "minute : 0\n",
      "second : 0\n",
      "day : 1\n",
      "month : 6\n",
      "year : 2019\n",
      "weekday : 5\n"
     ]
    }
   ],
   "source": [
    "print(\"actual time :\",start_month_ts)\n",
    "print(\"date :\",start_month_ts.date())\n",
    "print(\"time :\",start_month_ts.time())\n",
    "print(\"hour :\",start_month_ts.hour)\n",
    "print(\"minute :\",start_month_ts.minute)\n",
    "print(\"second :\",start_month_ts.second)\n",
    "print(\"day :\",start_month_ts.day)\n",
    "print(\"month :\",start_month_ts.month)\n",
    "print(\"year :\",start_month_ts.year)\n",
    "print(\"weekday :\",start_month_ts.weekday())"
   ]
  },
  {
   "cell_type": "code",
   "execution_count": 79,
   "metadata": {},
   "outputs": [],
   "source": [
    "days_diff = end_month_ts - start_month_ts\n",
    "months_diff = end_month_ts.month - start_month_ts.month + 12 * (end_month_ts.year - start_month_ts.year)"
   ]
  },
  {
   "cell_type": "code",
   "execution_count": 158,
   "metadata": {},
   "outputs": [],
   "source": [
    "months= [start_month,end_month]\n",
    "start,end= [datetime.strptime(_,\"%Y%m\") for _ in months]"
   ]
  },
  {
   "cell_type": "code",
   "execution_count": 159,
   "metadata": {},
   "outputs": [
    {
     "data": {
      "text/plain": [
       "odict_keys(['201906', '201907', '201908', '201909'])"
      ]
     },
     "execution_count": 159,
     "metadata": {},
     "output_type": "execute_result"
    }
   ],
   "source": [
    "OrderedDict(((start + timedelta(_)).strftime(r\"%Y%m\"), None) for _ in range((end - start).days)).keys()"
   ]
  },
  {
   "cell_type": "code",
   "execution_count": 160,
   "metadata": {},
   "outputs": [
    {
     "data": {
      "text/plain": [
       "odict_keys(['201906'])"
      ]
     },
     "execution_count": 160,
     "metadata": {},
     "output_type": "execute_result"
    }
   ],
   "source": [
    "OrderedDict(((start + timedelta(_)).strftime(r\"%Y%m\"), None) for _ in range(months_diff)).keys()\n"
   ]
  },
  {
   "cell_type": "code",
   "execution_count": 175,
   "metadata": {},
   "outputs": [
    {
     "name": "stdout",
     "output_type": "stream",
     "text": [
      "20190601\n",
      "20190701\n",
      "20190801\n",
      "20190901\n"
     ]
    }
   ],
   "source": [
    "from dateutil.relativedelta import *\n",
    "for i in range(months_diff):\n",
    "    #curr_month = (start_month_ts+timedelta(i+1)).strftime(r\"%Y%m\"),None\n",
    "    #curr_month = start_month_ts.month+i\n",
    "    print((start + relativedelta(months=i)).strftime(\"%Y%m%d %H%\"))\n",
    "    #print(i,curr_month)"
   ]
  },
  {
   "cell_type": "code",
   "execution_count": null,
   "metadata": {},
   "outputs": [],
   "source": []
  }
 ],
 "metadata": {
  "kernelspec": {
   "display_name": "Python 3",
   "language": "python",
   "name": "python3"
  },
  "language_info": {
   "codemirror_mode": {
    "name": "ipython",
    "version": 3
   },
   "file_extension": ".py",
   "mimetype": "text/x-python",
   "name": "python",
   "nbconvert_exporter": "python",
   "pygments_lexer": "ipython3",
   "version": "3.7.3"
  }
 },
 "nbformat": 4,
 "nbformat_minor": 2
}

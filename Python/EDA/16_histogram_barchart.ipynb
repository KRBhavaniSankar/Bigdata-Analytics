{
 "cells": [
  {
   "cell_type": "code",
   "execution_count": 34,
   "metadata": {},
   "outputs": [
    {
     "data": {
      "text/plain": [
       "'/Users/bhavani.sankar/Desktop/Proj/Asurion/Tasks/Homma/17_bigquery_data_extraction/bigquery_data/results-20190711-131914.csv'"
      ]
     },
     "execution_count": 34,
     "metadata": {},
     "output_type": "execute_result"
    }
   ],
   "source": [
    "bq_data"
   ]
  },
  {
   "cell_type": "code",
   "execution_count": 36,
   "metadata": {},
   "outputs": [
    {
     "data": {
      "text/html": [
       "<div>\n",
       "<style scoped>\n",
       "    .dataframe tbody tr th:only-of-type {\n",
       "        vertical-align: middle;\n",
       "    }\n",
       "\n",
       "    .dataframe tbody tr th {\n",
       "        vertical-align: top;\n",
       "    }\n",
       "\n",
       "    .dataframe thead th {\n",
       "        text-align: right;\n",
       "    }\n",
       "</style>\n",
       "<table border=\"1\" class=\"dataframe\">\n",
       "  <thead>\n",
       "    <tr style=\"text-align: right;\">\n",
       "      <th></th>\n",
       "      <th>imei</th>\n",
       "      <th>AdID</th>\n",
       "      <th>time</th>\n",
       "      <th>hour_before</th>\n",
       "      <th>ymd</th>\n",
       "      <th>f0_</th>\n",
       "    </tr>\n",
       "  </thead>\n",
       "  <tbody>\n",
       "    <tr>\n",
       "      <th>0</th>\n",
       "      <td>45O5555O55QOG4TTP4G055P0</td>\n",
       "      <td>8beeda2e-588a-4162-bb11-77b7bccd6afa</td>\n",
       "      <td>2018-12-18 10:15:24 UTC</td>\n",
       "      <td>2018-12-18 09:15:24 UTC</td>\n",
       "      <td>2018-12-18</td>\n",
       "      <td>59</td>\n",
       "    </tr>\n",
       "    <tr>\n",
       "      <th>1</th>\n",
       "      <td>T5O5545555QGT4GTP4O055P4</td>\n",
       "      <td>986a55d1-dd41-4cc8-b9f0-41377d3c45a8</td>\n",
       "      <td>2018-12-18 12:38:36 UTC</td>\n",
       "      <td>2018-12-18 11:38:36 UTC</td>\n",
       "      <td>2018-12-18</td>\n",
       "      <td>30</td>\n",
       "    </tr>\n",
       "    <tr>\n",
       "      <th>2</th>\n",
       "      <td>Q5O5545J55QT54QTP4J055PQ</td>\n",
       "      <td>44af3f53-391c-4547-a119-6eb756e0fcfb</td>\n",
       "      <td>2018-12-18 12:02:01 UTC</td>\n",
       "      <td>2018-12-18 11:02:01 UTC</td>\n",
       "      <td>2018-12-18</td>\n",
       "      <td>16</td>\n",
       "    </tr>\n",
       "    <tr>\n",
       "      <th>3</th>\n",
       "      <td>55O55G5J55QJJ4LTP4G055PN</td>\n",
       "      <td>80304380-eab1-4b9e-a4dc-bc8b56fda748</td>\n",
       "      <td>2018-12-18 11:46:12 UTC</td>\n",
       "      <td>2018-12-18 10:46:12 UTC</td>\n",
       "      <td>2018-12-18</td>\n",
       "      <td>15</td>\n",
       "    </tr>\n",
       "    <tr>\n",
       "      <th>4</th>\n",
       "      <td>G5O55Q5555QT545TP45055P4</td>\n",
       "      <td>4e1ea1a8-05c1-4158-8f79-20554dd8502a</td>\n",
       "      <td>2018-12-18 09:04:32 UTC</td>\n",
       "      <td>2018-12-18 08:04:32 UTC</td>\n",
       "      <td>2018-12-18</td>\n",
       "      <td>44</td>\n",
       "    </tr>\n",
       "  </tbody>\n",
       "</table>\n",
       "</div>"
      ],
      "text/plain": [
       "                       imei                                  AdID  \\\n",
       "0  45O5555O55QOG4TTP4G055P0  8beeda2e-588a-4162-bb11-77b7bccd6afa   \n",
       "1  T5O5545555QGT4GTP4O055P4  986a55d1-dd41-4cc8-b9f0-41377d3c45a8   \n",
       "2  Q5O5545J55QT54QTP4J055PQ  44af3f53-391c-4547-a119-6eb756e0fcfb   \n",
       "3  55O55G5J55QJJ4LTP4G055PN  80304380-eab1-4b9e-a4dc-bc8b56fda748   \n",
       "4  G5O55Q5555QT545TP45055P4  4e1ea1a8-05c1-4158-8f79-20554dd8502a   \n",
       "\n",
       "                      time              hour_before         ymd  f0_  \n",
       "0  2018-12-18 10:15:24 UTC  2018-12-18 09:15:24 UTC  2018-12-18   59  \n",
       "1  2018-12-18 12:38:36 UTC  2018-12-18 11:38:36 UTC  2018-12-18   30  \n",
       "2  2018-12-18 12:02:01 UTC  2018-12-18 11:02:01 UTC  2018-12-18   16  \n",
       "3  2018-12-18 11:46:12 UTC  2018-12-18 10:46:12 UTC  2018-12-18   15  \n",
       "4  2018-12-18 09:04:32 UTC  2018-12-18 08:04:32 UTC  2018-12-18   44  "
      ]
     },
     "execution_count": 36,
     "metadata": {},
     "output_type": "execute_result"
    }
   ],
   "source": [
    "import numpy as np\n",
    "import pandas as pd\n",
    "bq_df = pd.read_csv(bq_data)\n",
    "#bq_df = bq_df[['f0_']]\n",
    "bq_df.head()"
   ]
  },
  {
   "cell_type": "code",
   "execution_count": 10,
   "metadata": {},
   "outputs": [
    {
     "data": {
      "image/png": "[encoded data removed]",
      "text/plain": [
       "<Figure size 432x288 with 1 Axes>"
      ]
     },
     "metadata": {
      "needs_background": "light"
     },
     "output_type": "display_data"
    }
   ],
   "source": [
    "#hist = bq_df.hist(bins=10)"
   ]
  },
  {
   "cell_type": "code",
   "execution_count": 37,
   "metadata": {},
   "outputs": [
    {
     "data": {
      "text/plain": [
       "array([ 59,  30,  16,  15,  44,  29,  48,   7,  76,  27,  16,  92,  12,\n",
       "        87,  32,  14,  12,  56,  61,  12,  12, 282,  12,  18,  40,   8,\n",
       "        12,  98,  12])"
      ]
     },
     "execution_count": 37,
     "metadata": {},
     "output_type": "execute_result"
    }
   ],
   "source": [
    "l =bq_df[\"f0_\"].values\n",
    "l"
   ]
  },
  {
   "cell_type": "code",
   "execution_count": 66,
   "metadata": {},
   "outputs": [
    {
     "data": {
      "text/plain": [
       "(array([14.,  5.,  5.,  1.,  3.,  0.,  0.,  0.,  0.,  0.,  0.,  0.,  0.,\n",
       "         1.]), array([  0.        ,  21.42857143,  42.85714286,  64.28571429,\n",
       "         85.71428571, 107.14285714, 128.57142857, 150.        ,\n",
       "        171.42857143, 192.85714286, 214.28571429, 235.71428571,\n",
       "        257.14285714, 278.57142857, 300.        ]), <a list of 14 Patch objects>)"
      ]
     },
     "execution_count": 66,
     "metadata": {},
     "output_type": "execute_result"
    },
    {
     "data": {
      "image/png": "[encoded data removed]",
      "text/plain": [
       "<Figure size 432x288 with 1 Axes>"
      ]
     },
     "metadata": {
      "needs_background": "light"
     },
     "output_type": "display_data"
    }
   ],
   "source": [
    "import matplotlib.pyplot as plt\n",
    "plt.hist(l,bins=np.linspace(0,300,15),rwidth=0.6)"
   ]
  },
  {
   "cell_type": "markdown",
   "metadata": {},
   "source": [
    "# BAR CHART \n"
   ]
  },
  {
   "cell_type": "code",
   "execution_count": 67,
   "metadata": {},
   "outputs": [
    {
     "data": {
      "text/html": [
       "<div>\n",
       "<style scoped>\n",
       "    .dataframe tbody tr th:only-of-type {\n",
       "        vertical-align: middle;\n",
       "    }\n",
       "\n",
       "    .dataframe tbody tr th {\n",
       "        vertical-align: top;\n",
       "    }\n",
       "\n",
       "    .dataframe thead th {\n",
       "        text-align: right;\n",
       "    }\n",
       "</style>\n",
       "<table border=\"1\" class=\"dataframe\">\n",
       "  <thead>\n",
       "    <tr style=\"text-align: right;\">\n",
       "      <th></th>\n",
       "      <th>index</th>\n",
       "      <th>f0_</th>\n",
       "    </tr>\n",
       "  </thead>\n",
       "  <tbody>\n",
       "    <tr>\n",
       "      <th>7</th>\n",
       "      <td>8</td>\n",
       "      <td>7</td>\n",
       "    </tr>\n",
       "    <tr>\n",
       "      <th>25</th>\n",
       "      <td>26</td>\n",
       "      <td>8</td>\n",
       "    </tr>\n",
       "    <tr>\n",
       "      <th>28</th>\n",
       "      <td>29</td>\n",
       "      <td>12</td>\n",
       "    </tr>\n",
       "    <tr>\n",
       "      <th>19</th>\n",
       "      <td>20</td>\n",
       "      <td>12</td>\n",
       "    </tr>\n",
       "    <tr>\n",
       "      <th>20</th>\n",
       "      <td>21</td>\n",
       "      <td>12</td>\n",
       "    </tr>\n",
       "  </tbody>\n",
       "</table>\n",
       "</div>"
      ],
      "text/plain": [
       "    index  f0_\n",
       "7       8    7\n",
       "25     26    8\n",
       "28     29   12\n",
       "19     20   12\n",
       "20     21   12"
      ]
     },
     "execution_count": 67,
     "metadata": {},
     "output_type": "execute_result"
    }
   ],
   "source": [
    "bq_df.head()"
   ]
  },
  {
   "cell_type": "code",
   "execution_count": 52,
   "metadata": {},
   "outputs": [],
   "source": [
    "bq_df['index'] = range(1, 1+len(bq_df))\n",
    "\n",
    "bq_df= bq_df[['index','f0_']]\n",
    "bq_df=bq_df.sort_values('f0_')"
   ]
  },
  {
   "cell_type": "code",
   "execution_count": 53,
   "metadata": {},
   "outputs": [
    {
     "data": {
      "image/png": "[encoded data removed]",
      "text/plain": [
       "<Figure size 1080x576 with 1 Axes>"
      ]
     },
     "metadata": {
      "needs_background": "light"
     },
     "output_type": "display_data"
    }
   ],
   "source": [
    "ax = plt.gca()\n",
    "bq_df.plot(x=\"index\", y=['f0_'], kind=\"bar\",ax=ax,figsize=(15,8))\n",
    "#plt.rcParams[\"figure.figsize\"] = (15,8)\n",
    "plt.show()"
   ]
  },
  {
   "cell_type": "code",
   "execution_count": 61,
   "metadata": {},
   "outputs": [
    {
     "data": {
      "text/plain": [
       "array([  0.,  10.,  20.,  30.,  40.,  50.,  60.,  70.,  80.,  90., 100.,\n",
       "       110., 120., 130., 140., 150., 160., 170., 180., 190., 200., 210.,\n",
       "       220., 230., 240., 250., 260., 270., 280., 290., 300.])"
      ]
     },
     "execution_count": 61,
     "metadata": {},
     "output_type": "execute_result"
    }
   ],
   "source": [
    "np.linspace(0,300,31)"
   ]
  },
  {
   "cell_type": "code",
   "execution_count": null,
   "metadata": {},
   "outputs": [],
   "source": []
  }
 ],
 "metadata": {
  "kernelspec": {
   "display_name": "Python 3",
   "language": "python",
   "name": "python3"
  },
  "language_info": {
   "codemirror_mode": {
    "name": "ipython",
    "version": 3
   },
   "file_extension": ".py",
   "mimetype": "text/x-python",
   "name": "python",
   "nbconvert_exporter": "python",
   "pygments_lexer": "ipython3",
   "version": "3.7.1"
  }
 },
 "nbformat": 4,
 "nbformat_minor": 2
}

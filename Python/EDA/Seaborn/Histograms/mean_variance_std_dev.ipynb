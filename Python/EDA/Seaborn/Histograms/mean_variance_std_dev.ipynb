{
 "cells": [
  {
   "cell_type": "code",
   "execution_count": 5,
   "metadata": {},
   "outputs": [],
   "source": [
    "import pandas as pd\n",
    "import seaborn as sns\n",
    "import matplotlib.pyplot as plt\n",
    "import numpy as np\n",
    "iris_path = './iris_data.csv'"
   ]
  },
  {
   "cell_type": "code",
   "execution_count": 6,
   "metadata": {},
   "outputs": [
    {
     "data": {
      "text/plain": [
       "(150, 5)"
      ]
     },
     "execution_count": 6,
     "metadata": {},
     "output_type": "execute_result"
    }
   ],
   "source": [
    "iris_df = pd.read_csv(iris_path)\n",
    "iris_df.shape"
   ]
  },
  {
   "cell_type": "code",
   "execution_count": 7,
   "metadata": {},
   "outputs": [
    {
     "data": {
      "text/html": [
       "<div>\n",
       "<style scoped>\n",
       "    .dataframe tbody tr th:only-of-type {\n",
       "        vertical-align: middle;\n",
       "    }\n",
       "\n",
       "    .dataframe tbody tr th {\n",
       "        vertical-align: top;\n",
       "    }\n",
       "\n",
       "    .dataframe thead th {\n",
       "        text-align: right;\n",
       "    }\n",
       "</style>\n",
       "<table border=\"1\" class=\"dataframe\">\n",
       "  <thead>\n",
       "    <tr style=\"text-align: right;\">\n",
       "      <th></th>\n",
       "      <th>sepal.length</th>\n",
       "      <th>sepal.width</th>\n",
       "      <th>petal.length</th>\n",
       "      <th>petal.width</th>\n",
       "      <th>variety</th>\n",
       "    </tr>\n",
       "  </thead>\n",
       "  <tbody>\n",
       "    <tr>\n",
       "      <th>0</th>\n",
       "      <td>5.1</td>\n",
       "      <td>3.5</td>\n",
       "      <td>1.4</td>\n",
       "      <td>0.2</td>\n",
       "      <td>Setosa</td>\n",
       "    </tr>\n",
       "    <tr>\n",
       "      <th>1</th>\n",
       "      <td>4.9</td>\n",
       "      <td>3.0</td>\n",
       "      <td>1.4</td>\n",
       "      <td>0.2</td>\n",
       "      <td>Setosa</td>\n",
       "    </tr>\n",
       "    <tr>\n",
       "      <th>2</th>\n",
       "      <td>4.7</td>\n",
       "      <td>3.2</td>\n",
       "      <td>1.3</td>\n",
       "      <td>0.2</td>\n",
       "      <td>Setosa</td>\n",
       "    </tr>\n",
       "    <tr>\n",
       "      <th>3</th>\n",
       "      <td>4.6</td>\n",
       "      <td>3.1</td>\n",
       "      <td>1.5</td>\n",
       "      <td>0.2</td>\n",
       "      <td>Setosa</td>\n",
       "    </tr>\n",
       "    <tr>\n",
       "      <th>4</th>\n",
       "      <td>5.0</td>\n",
       "      <td>3.6</td>\n",
       "      <td>1.4</td>\n",
       "      <td>0.2</td>\n",
       "      <td>Setosa</td>\n",
       "    </tr>\n",
       "  </tbody>\n",
       "</table>\n",
       "</div>"
      ],
      "text/plain": [
       "   sepal.length  sepal.width  petal.length  petal.width variety\n",
       "0           5.1          3.5           1.4          0.2  Setosa\n",
       "1           4.9          3.0           1.4          0.2  Setosa\n",
       "2           4.7          3.2           1.3          0.2  Setosa\n",
       "3           4.6          3.1           1.5          0.2  Setosa\n",
       "4           5.0          3.6           1.4          0.2  Setosa"
      ]
     },
     "execution_count": 7,
     "metadata": {},
     "output_type": "execute_result"
    }
   ],
   "source": [
    "iris_df.head()"
   ]
  },
  {
   "cell_type": "code",
   "execution_count": 8,
   "metadata": {},
   "outputs": [
    {
     "data": {
      "text/html": [
       "<div>\n",
       "<style scoped>\n",
       "    .dataframe tbody tr th:only-of-type {\n",
       "        vertical-align: middle;\n",
       "    }\n",
       "\n",
       "    .dataframe tbody tr th {\n",
       "        vertical-align: top;\n",
       "    }\n",
       "\n",
       "    .dataframe thead th {\n",
       "        text-align: right;\n",
       "    }\n",
       "</style>\n",
       "<table border=\"1\" class=\"dataframe\">\n",
       "  <thead>\n",
       "    <tr style=\"text-align: right;\">\n",
       "      <th></th>\n",
       "      <th>sepal.length</th>\n",
       "      <th>sepal.width</th>\n",
       "      <th>petal.length</th>\n",
       "      <th>petal.width</th>\n",
       "      <th>variety</th>\n",
       "    </tr>\n",
       "  </thead>\n",
       "  <tbody>\n",
       "    <tr>\n",
       "      <th>50</th>\n",
       "      <td>7.0</td>\n",
       "      <td>3.2</td>\n",
       "      <td>4.7</td>\n",
       "      <td>1.4</td>\n",
       "      <td>Versicolor</td>\n",
       "    </tr>\n",
       "    <tr>\n",
       "      <th>51</th>\n",
       "      <td>6.4</td>\n",
       "      <td>3.2</td>\n",
       "      <td>4.5</td>\n",
       "      <td>1.5</td>\n",
       "      <td>Versicolor</td>\n",
       "    </tr>\n",
       "    <tr>\n",
       "      <th>52</th>\n",
       "      <td>6.9</td>\n",
       "      <td>3.1</td>\n",
       "      <td>4.9</td>\n",
       "      <td>1.5</td>\n",
       "      <td>Versicolor</td>\n",
       "    </tr>\n",
       "    <tr>\n",
       "      <th>53</th>\n",
       "      <td>5.5</td>\n",
       "      <td>2.3</td>\n",
       "      <td>4.0</td>\n",
       "      <td>1.3</td>\n",
       "      <td>Versicolor</td>\n",
       "    </tr>\n",
       "    <tr>\n",
       "      <th>54</th>\n",
       "      <td>6.5</td>\n",
       "      <td>2.8</td>\n",
       "      <td>4.6</td>\n",
       "      <td>1.5</td>\n",
       "      <td>Versicolor</td>\n",
       "    </tr>\n",
       "  </tbody>\n",
       "</table>\n",
       "</div>"
      ],
      "text/plain": [
       "    sepal.length  sepal.width  petal.length  petal.width     variety\n",
       "50           7.0          3.2           4.7          1.4  Versicolor\n",
       "51           6.4          3.2           4.5          1.5  Versicolor\n",
       "52           6.9          3.1           4.9          1.5  Versicolor\n",
       "53           5.5          2.3           4.0          1.3  Versicolor\n",
       "54           6.5          2.8           4.6          1.5  Versicolor"
      ]
     },
     "execution_count": 8,
     "metadata": {},
     "output_type": "execute_result"
    }
   ],
   "source": [
    "setosa_df = iris_df[iris_df['variety']=='Setosa']\n",
    "virginica_df = iris_df[iris_df['variety']=='Virginica']\n",
    "versicolor_df = iris_df.loc[iris_df['variety']=='Versicolor']\n",
    "versicolor_df.head()"
   ]
  },
  {
   "cell_type": "markdown",
   "metadata": {},
   "source": [
    "# Mean , SD, Variance "
   ]
  },
  {
   "cell_type": "code",
   "execution_count": 9,
   "metadata": {},
   "outputs": [
    {
     "name": "stdout",
     "output_type": "stream",
     "text": [
      "1.4620000000000002\n",
      "2.4137254901960787\n",
      "5.552\n",
      "4.26\n"
     ]
    }
   ],
   "source": [
    "print(np.mean(setosa_df['petal.length']))\n",
    "print(np.mean(np.append(setosa_df['petal.length'],50)))\n",
    "print(np.mean(virginica_df['petal.length']))\n",
    "print(np.mean(versicolor_df['petal.length']))"
   ]
  },
  {
   "cell_type": "code",
   "execution_count": 10,
   "metadata": {},
   "outputs": [
    {
     "name": "stdout",
     "output_type": "stream",
     "text": [
      "0.17191858538273286\n",
      "6.731868010072429\n",
      "0.5463478745268441\n",
      "0.4651881339845204\n"
     ]
    }
   ],
   "source": [
    "print(np.std(setosa_df['petal.length']))\n",
    "print(np.std(np.append(setosa_df['petal.length'],50)))\n",
    "print(np.std(virginica_df['petal.length']))\n",
    "print(np.std(versicolor_df['petal.length']))"
   ]
  },
  {
   "cell_type": "markdown",
   "metadata": {},
   "source": [
    "1. Mean, SD and variance easily affected by outliers.\n",
    "2. Mean talks about balance point where as SD talks about spread of the data.\n"
   ]
  },
  {
   "cell_type": "code",
   "execution_count": 11,
   "metadata": {},
   "outputs": [
    {
     "name": "stdout",
     "output_type": "stream",
     "text": [
      "1.4620000000000002 0.1736639964801841 0.030159183673469397\n"
     ]
    },
    {
     "data": {
      "text/plain": [
       "count    50.000000\n",
       "mean      1.462000\n",
       "std       0.173664\n",
       "min       1.000000\n",
       "25%       1.400000\n",
       "50%       1.500000\n",
       "75%       1.575000\n",
       "max       1.900000\n",
       "Name: petal.length, dtype: float64"
      ]
     },
     "execution_count": 11,
     "metadata": {},
     "output_type": "execute_result"
    }
   ],
   "source": [
    "print(setosa_df['petal.length'].mean(),setosa_df['petal.length'].std(),setosa_df['petal.length'].var())\n",
    "setosa_df['petal.length'].describe()"
   ]
  },
  {
   "cell_type": "markdown",
   "metadata": {},
   "source": [
    "# Median, Percentile , Quantile, IQR , MAD"
   ]
  },
  {
   "cell_type": "code",
   "execution_count": 12,
   "metadata": {},
   "outputs": [
    {
     "name": "stdout",
     "output_type": "stream",
     "text": [
      "median with outlier is : 1.5\n",
      "median without outlier is : 1.5\n",
      "median - Virginica 5.55\n",
      "median - Versicolor 4.35\n"
     ]
    }
   ],
   "source": [
    "\n",
    "print(\"median with outlier is : {}\".format(np.median(setosa_df['petal.length'])))\n",
    "print(\"median without outlier is : {}\".format(np.median(np.append(setosa_df['petal.length'],50))))\n",
    "print(\"median - Virginica {}\".format(np.median(virginica_df['petal.length'])))\n",
    "print(\"median - Versicolor {}\".format(np.median(versicolor_df['petal.length'])))"
   ]
  },
  {
   "cell_type": "code",
   "execution_count": 4,
   "metadata": {},
   "outputs": [],
   "source": [
    "#%history -g"
   ]
  },
  {
   "cell_type": "code",
   "execution_count": 13,
   "metadata": {},
   "outputs": [
    {
     "name": "stdout",
     "output_type": "stream",
     "text": [
      "90th percentile - setosa_df: 1.7\n",
      "90th percentile - virginica_df : 6.3100000000000005\n",
      "90th percentile - versicolor_df : 4.8\n"
     ]
    }
   ],
   "source": [
    "print('90th percentile - setosa_df: {}'.format(np.percentile(setosa_df['petal.length'],90)))\n",
    "print('90th percentile - virginica_df : {}'.format(np.percentile(virginica_df['petal.length'],90)))\n",
    "print('90th percentile - versicolor_df : {}'.format(np.percentile(versicolor_df['petal.length'],90)))"
   ]
  },
  {
   "cell_type": "code",
   "execution_count": 14,
   "metadata": {},
   "outputs": [
    {
     "name": "stdout",
     "output_type": "stream",
     "text": [
      "Quantiles - setosa_df: [1.    1.4   1.5   1.575]\n",
      "Quantiles - virginica_df : [4.5   5.1   5.55  5.875]\n",
      "Quantiles - versicolor_df : [3.   4.   4.35 4.6 ]\n"
     ]
    }
   ],
   "source": [
    "print('Quantiles - setosa_df: {}'.format(np.percentile(setosa_df['petal.length'],np.arange(0,100,25))))\n",
    "print('Quantiles - virginica_df : {}'.format(np.percentile(virginica_df['petal.length'],np.arange(0,100,25))))\n",
    "print('Quantiles - versicolor_df : {}'.format(np.percentile(versicolor_df['petal.length'],np.arange(0,100,25))))\n"
   ]
  },
  {
   "cell_type": "code",
   "execution_count": 15,
   "metadata": {},
   "outputs": [
    {
     "name": "stdout",
     "output_type": "stream",
     "text": [
      "Median absolute Deviation\n",
      "0.14826022185056031\n",
      "0.6671709983275211\n",
      "0.5189107764769602\n"
     ]
    }
   ],
   "source": [
    "from statsmodels import robust\n",
    "print('Median absolute Deviation')\n",
    "\n",
    "print(robust.mad(setosa_df['petal.length']))\n",
    "print(robust.mad(virginica_df['petal.length']))\n",
    "print(robust.mad(versicolor_df['petal.length']))\n"
   ]
  },
  {
   "cell_type": "markdown",
   "metadata": {},
   "source": [
    "# CONCLUSIONS\n",
    "1. We can say , mean = median(with out effects of outliers) in the same way MAD is similar to Standard deviation.\n"
   ]
  },
  {
   "cell_type": "code",
   "execution_count": 16,
   "metadata": {},
   "outputs": [
    {
     "data": {
      "image/png": "[encoded data removed]",
      "text/plain": [
       "<Figure size 432x288 with 1 Axes>"
      ]
     },
     "metadata": {},
     "output_type": "display_data"
    }
   ],
   "source": [
    "sns.set_style('whitegrid')\n",
    "sns.boxplot(x='variety',y='petal.length',data= iris_df)\n",
    "plt.show()"
   ]
  },
  {
   "cell_type": "markdown",
   "metadata": {},
   "source": [
    "# Observations\n",
    "1. We can distinguish variety easily by using box-whisker plots.\n",
    "2. Box-whisker plots has min,Q1,Q2(median),Q3,max values to detect outliers.\n",
    "3. We can also make modified Box-plots by represnting outliers with IQR, since value less than (Q1 +1.5*IQR) or more than (Q3+ 1.5*IQR) is considered as outliers of the data.\n",
    "4. IQR = Q3 - Q1 \n",
    "5. We can also make side by side box-plots to compare 2 data sets with same meanings ( EX: Gender basis analysis uisng box-whisker plots by comparing Male vs Female)\n",
    "6. We can build rules based model by taking feature petal.length and can make predictions to distinugish the variety."
   ]
  },
  {
   "cell_type": "code",
   "execution_count": 18,
   "metadata": {},
   "outputs": [
    {
     "data": {
      "image/png": "[encoded data removed]",
      "text/plain": [
       "<Figure size 432x288 with 1 Axes>"
      ]
     },
     "metadata": {},
     "output_type": "display_data"
    }
   ],
   "source": [
    "#A violin plot combines the benifits of the previous two plots and simplifies them\n",
    "#Denser regions of the data are fatter, and sparser ones thinner in a violin plots\n",
    "\n",
    "\n",
    "sns.set_style('whitegrid')\n",
    "sns.violinplot(x='variety',y='petal.length',data= iris_df)\n",
    "plt.show()"
   ]
  },
  {
   "cell_type": "markdown",
   "metadata": {},
   "source": [
    "#CONCLUSIONS :\n",
    "1. Violin plots are the combination of histograms (PDF) with box-whisker plots to represent the data by taking best of their above 2 worlds.\n",
    "2. By this plots we can easily conclude and make predictions by building rules based method on petal.length"
   ]
  },
  {
   "cell_type": "markdown",
   "metadata": {},
   "source": [
    "#Univariate Analysis : PDF, CDF, Histograms, box-whisker plot, 5-number summary, violin plots\n",
    "#Bi-variate Analysis : scatter plot, 2d plots\n",
    "#Multi-variate Analysis : 3D plots, Glorified ML/DL algorithms by analyzing multiple features to make effective predictions.\n"
   ]
  }
 ],
 "metadata": {
  "kernelspec": {
   "display_name": "Python 3",
   "language": "python",
   "name": "python3"
  },
  "language_info": {
   "codemirror_mode": {
    "name": "ipython",
    "version": 3
   },
   "file_extension": ".py",
   "mimetype": "text/x-python",
   "name": "python",
   "nbconvert_exporter": "python",
   "pygments_lexer": "ipython3",
   "version": "3.7.1"
  }
 },
 "nbformat": 4,
 "nbformat_minor": 2
}

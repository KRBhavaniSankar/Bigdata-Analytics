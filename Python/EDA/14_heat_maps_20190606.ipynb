{
 "cells": [
  {
   "cell_type": "code",
   "execution_count": 1,
   "metadata": {},
   "outputs": [
    {
     "data": {
      "text/html": [
       "<div>\n",
       "<style scoped>\n",
       "    .dataframe tbody tr th:only-of-type {\n",
       "        vertical-align: middle;\n",
       "    }\n",
       "\n",
       "    .dataframe tbody tr th {\n",
       "        vertical-align: top;\n",
       "    }\n",
       "\n",
       "    .dataframe thead th {\n",
       "        text-align: right;\n",
       "    }\n",
       "</style>\n",
       "<table border=\"1\" class=\"dataframe\">\n",
       "  <thead>\n",
       "    <tr style=\"text-align: right;\">\n",
       "      <th></th>\n",
       "      <th>A</th>\n",
       "      <th>B</th>\n",
       "      <th>C</th>\n",
       "      <th>D</th>\n",
       "    </tr>\n",
       "  </thead>\n",
       "  <tbody>\n",
       "    <tr>\n",
       "      <th>aaa</th>\n",
       "      <td>1.0</td>\n",
       "      <td>0.3</td>\n",
       "      <td>2.1</td>\n",
       "      <td>1.30</td>\n",
       "    </tr>\n",
       "    <tr>\n",
       "      <th>bbb</th>\n",
       "      <td>2.5</td>\n",
       "      <td>1.0</td>\n",
       "      <td>1.0</td>\n",
       "      <td>0.77</td>\n",
       "    </tr>\n",
       "    <tr>\n",
       "      <th>ccc</th>\n",
       "      <td>0.0</td>\n",
       "      <td>1.0</td>\n",
       "      <td>2.0</td>\n",
       "      <td>1.00</td>\n",
       "    </tr>\n",
       "    <tr>\n",
       "      <th>ddd</th>\n",
       "      <td>0.0</td>\n",
       "      <td>3.2</td>\n",
       "      <td>1.0</td>\n",
       "      <td>1.20</td>\n",
       "    </tr>\n",
       "    <tr>\n",
       "      <th>eee</th>\n",
       "      <td>10.0</td>\n",
       "      <td>1.0</td>\n",
       "      <td>1.0</td>\n",
       "      <td>1.00</td>\n",
       "    </tr>\n",
       "  </tbody>\n",
       "</table>\n",
       "</div>"
      ],
      "text/plain": [
       "        A    B    C     D\n",
       "aaa   1.0  0.3  2.1  1.30\n",
       "bbb   2.5  1.0  1.0  0.77\n",
       "ccc   0.0  1.0  2.0  1.00\n",
       "ddd   0.0  3.2  1.0  1.20\n",
       "eee  10.0  1.0  1.0  1.00"
      ]
     },
     "execution_count": 1,
     "metadata": {},
     "output_type": "execute_result"
    }
   ],
   "source": [
    "import pandas as pd\n",
    "Index= ['aaa', 'bbb', 'ccc', 'ddd', 'eee']\n",
    "Cols = ['A', 'B', 'C', 'D']\n",
    "data= [[ 1, 0.3, 2.1, 1.3],[ 2.5, 1, 1, 0.77],[ 0.0, 1, 2, 1],[ 0, 3.2, 1, 1.2],[ 10, 1, 1, 1]]\n",
    "df = pd.DataFrame(data, index=Index, columns=Cols)\n",
    "df.head()"
   ]
  },
  {
   "cell_type": "code",
   "execution_count": 5,
   "metadata": {},
   "outputs": [
    {
     "data": {
      "text/plain": [
       "<matplotlib.colorbar.Colorbar at 0x11e7dfbe0>"
      ]
     },
     "execution_count": 5,
     "metadata": {},
     "output_type": "execute_result"
    },
    {
     "data": {
      "image/png": "[encoded data removed]",
      "text/plain": [
       "<Figure size 432x288 with 2 Axes>"
      ]
     },
     "metadata": {
      "needs_background": "light"
     },
     "output_type": "display_data"
    }
   ],
   "source": [
    "import matplotlib.pyplot as plt\n",
    "import numpy as np\n",
    "cmap = colors.ListedColormap(['darkblue','blue','white','pink','red'])\n",
    "bounds=[-0.5, 0.5, 1.5, 2.5, 3.5]\n",
    "norm = colors.BoundaryNorm(bounds, cmap.N)\n",
    "heatmap = plt.pcolor(np.array(data), cmap=cmap, norm=norm)\n",
    "plt.colorbar(heatmap, ticks=[0, 1, 2, 3])"
   ]
  },
  {
   "cell_type": "code",
   "execution_count": 6,
   "metadata": {},
   "outputs": [
    {
     "data": {
      "image/png": "[encoded data removed]",
      "text/plain": [
       "<Figure size 432x288 with 2 Axes>"
      ]
     },
     "metadata": {
      "needs_background": "light"
     },
     "output_type": "display_data"
    }
   ],
   "source": [
    "# Builtin colourmap \"seismic\" has the blue-white-red\n",
    "#   scale you want\n",
    "plt.pcolor(np.array(data), cmap=plt.cm.seismic, vmin=0, vmax=2)\n",
    "plt.colorbar()\n",
    "plt.show()"
   ]
  },
  {
   "cell_type": "code",
   "execution_count": 10,
   "metadata": {},
   "outputs": [
    {
     "data": {
      "image/png": "[encoded data removed]",
      "text/plain": [
       "<Figure size 432x288 with 2 Axes>"
      ]
     },
     "metadata": {
      "needs_background": "light"
     },
     "output_type": "display_data"
    }
   ],
   "source": [
    "from matplotlib import colors\n",
    "\n",
    "corr_matrix = np.array([[0,0,0,0,0],\n",
    "                        [-.11,0,0,0,0],\n",
    "                        [-.1,.34,0,0,0],\n",
    "                        [-0.06,-.1,-.06,0,0],\n",
    "                        [-0.32,-.08,-.01,.16,0]])\n",
    "\n",
    "cmap = colors.ListedColormap([\"navy\", \"royalblue\", \"lightsteelblue\", \n",
    "                              \"beige\", \"peachpuff\", \"salmon\", \"darkred\"])\n",
    "bounds = [-1, -0.5, -0.3, -0.1, 0.1, 0.3, 0.5, 1]\n",
    "norm = colors.BoundaryNorm(bounds, cmap.N)\n",
    "\n",
    "mask = np.zeros_like(corr_matrix, dtype=np.bool)\n",
    "mask[np.triu_indices_from(mask)] = True\n",
    "corr_matrix_masked = np.ma.masked_array(corr_matrix, mask)\n",
    "\n",
    "fig, ax = plt.subplots()\n",
    "\n",
    "im = ax.imshow(corr_matrix_masked, cmap=cmap, norm=norm)\n",
    "fig.colorbar(im, ticks=[-1, -0.5, -0.3, -0.1, +0.1, +0.3, +0.5, +1])\n",
    "\n",
    "for i in range(corr_matrix_masked.shape[0]):\n",
    "    for j in range(corr_matrix_masked.shape[1]):\n",
    "        if not corr_matrix_masked.mask[i,j]:\n",
    "            val = corr_matrix_masked[i,j]\n",
    "            color = {True:\"w\", False:\"k\"}[np.abs(val) > 0.3]\n",
    "            ax.text(j,i,\"{:.4f}\".format(corr_matrix_masked[i,j]), \n",
    "                    ha=\"center\", va=\"center\", color=color)\n",
    "\n",
    "ax.set_title('Correllation Matrix')\n",
    "for k,v in ax.spines.items():\n",
    "    v.set_visible(False)\n",
    "plt.show()"
   ]
  },
  {
   "cell_type": "code",
   "execution_count": null,
   "metadata": {},
   "outputs": [],
   "source": []
  }
 ],
 "metadata": {
  "kernelspec": {
   "display_name": "Python 3",
   "language": "python",
   "name": "python3"
  },
  "language_info": {
   "codemirror_mode": {
    "name": "ipython",
    "version": 3
   },
   "file_extension": ".py",
   "mimetype": "text/x-python",
   "name": "python",
   "nbconvert_exporter": "python",
   "pygments_lexer": "ipython3",
   "version": "3.7.1"
  }
 },
 "nbformat": 4,
 "nbformat_minor": 2
}

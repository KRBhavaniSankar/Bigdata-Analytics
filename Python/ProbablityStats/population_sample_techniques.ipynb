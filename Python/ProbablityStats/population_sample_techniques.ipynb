{
 "cells": [
  {
   "cell_type": "code",
   "execution_count": 6,
   "metadata": {},
   "outputs": [
    {
     "name": "stdout",
     "output_type": "stream",
     "text": [
      "[8, 1, 9, 6, 3, 29, 78, 19]\n"
     ]
    }
   ],
   "source": [
    "from random import sample\n",
    "\n",
    "#select random samples from given list, set, tuple, string, dataframe\n",
    "l = [1,2,3,4,5,6,78,8,9,29,19]\n",
    "l_samp = sample(l, 8)\n",
    "print(l_samp)"
   ]
  },
  {
   "cell_type": "code",
   "execution_count": 10,
   "metadata": {},
   "outputs": [
    {
     "name": "stdout",
     "output_type": "stream",
     "text": [
      "['a', 'a', 's']\n",
      "<class 'list'>\n"
     ]
    }
   ],
   "source": [
    "str = 'bhavani sankar'\n",
    "str_samp = sample(str,3)\n",
    "print(str_samp)\n",
    "print(type(str_samp))"
   ]
  },
  {
   "cell_type": "code",
   "execution_count": 13,
   "metadata": {},
   "outputs": [
    {
     "name": "stdout",
     "output_type": "stream",
     "text": [
      "<class 'set'>\n",
      "[2, 1, 566, 9, 3, 5, 4]\n"
     ]
    }
   ],
   "source": [
    "tup = {1,3,4,5,566,3,2,2,4,9,566,6,}\n",
    "print(type(tup))\n",
    "tup_samp = sample(tup,7)\n",
    "print(tup_samp)"
   ]
  },
  {
   "cell_type": "code",
   "execution_count": 14,
   "metadata": {},
   "outputs": [
    {
     "name": "stdout",
     "output_type": "stream",
     "text": [
      "With tuple: ['science', 'ankit', 'geeks', 'computer']\n"
     ]
    }
   ],
   "source": [
    "tuple1 = (\"ankit\", \"geeks\", \"computer\", \"science\", \n",
    "                   \"portal\", \"scientist\", \"btech\") \n",
    "print(\"With tuple:\", sample(tuple1, 4)) "
   ]
  },
  {
   "cell_type": "code",
   "execution_count": 21,
   "metadata": {},
   "outputs": [
    {
     "data": {
      "text/plain": [
       "(30, 5)"
      ]
     },
     "execution_count": 21,
     "metadata": {},
     "output_type": "execute_result"
    }
   ],
   "source": [
    "import pandas as pd\n",
    "\n",
    "iris_data = '/Users/bhavani.sankar/AppliedML/1_IRISDatasetEDA_2Dscatterplot/iris_data.csv'\n",
    "iris_df = pd.read_csv(iris_data)\n",
    "iris_df.head()\n",
    "samp_df = iris_df.sample(n=30, replace='False')\n",
    "samp_df.shape"
   ]
  },
  {
   "cell_type": "markdown",
   "metadata": {},
   "source": [
    "# NOTE "
   ]
  },
  {
   "cell_type": "markdown",
   "metadata": {},
   "source": [
    "1. Population is all the data and represented by 'meu μ'\n",
    "2. Sample is some part of data and represented by 'X bar'\n",
    "3. A good sample is representative of the entire population gives each thing an equal choice of being choosen.\n",
    "4. There are 2 types of samples : biased and unbaised samples or probability sampling vs unprobability sampling \n",
    "\n",
    "5. Unbaised samples classifed 3 types : Simple random sampling(SRS) , MultiStageSampling and StartifiedRanodm Sampling, Systematic Sampling, Cluster Sampling\n",
    "6. Check this link for more explanations : https://towardsdatascience.com/sampling-techniques-a4e34111d808"
   ]
  }
 ],
 "metadata": {
  "kernelspec": {
   "display_name": "Python 3",
   "language": "python",
   "name": "python3"
  },
  "language_info": {
   "codemirror_mode": {
    "name": "ipython",
    "version": 3
   },
   "file_extension": ".py",
   "mimetype": "text/x-python",
   "name": "python",
   "nbconvert_exporter": "python",
   "pygments_lexer": "ipython3",
   "version": "3.7.1"
  }
 },
 "nbformat": 4,
 "nbformat_minor": 2
}

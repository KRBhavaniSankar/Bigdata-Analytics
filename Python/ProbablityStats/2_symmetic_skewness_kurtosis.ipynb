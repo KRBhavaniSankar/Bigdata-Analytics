{
 "cells": [
  {
   "cell_type": "code",
   "execution_count": 1,
   "metadata": {},
   "outputs": [],
   "source": [
    "import numpy as np\n",
    "from scipy.stats import kurtosis\n",
    "from scipy.stats import skew"
   ]
  },
  {
   "cell_type": "code",
   "execution_count": 5,
   "metadata": {},
   "outputs": [
    {
     "name": "stdout",
     "output_type": "stream",
     "text": [
      "excess kurtosis of normal distribution (should be 0): -0.043441026982176556\n",
      "skewness of normal distribution (should be 0): -0.01096711133350619\n"
     ]
    }
   ],
   "source": [
    "x = np.random.normal(0, 2, 10000)   # create random values based on a normal distribution\n",
    "\n",
    "print( 'excess kurtosis of normal distribution (should be 0): {}'.format( kurtosis(x) ))\n",
    "print( 'skewness of normal distribution (should be 0): {}'.format( skew(x) ))"
   ]
  },
  {
   "cell_type": "code",
   "execution_count": 6,
   "metadata": {},
   "outputs": [
    {
     "data": {
      "text/plain": [
       "array([-1.49399899,  0.69643845, -3.44342958, ...,  4.36865518,\n",
       "        3.01605521, -0.55263466])"
      ]
     },
     "execution_count": 6,
     "metadata": {},
     "output_type": "execute_result"
    }
   ],
   "source": [
    "x"
   ]
  },
  {
   "cell_type": "code",
   "execution_count": null,
   "metadata": {},
   "outputs": [],
   "source": [
    "import pandas as pd\n",
    "from scipy.stats import kurtosis\n",
    "from scipy.stats import skew\n",
    "\n",
    "import matplotlib.pyplot as plt\n",
    "\n",
    "plt.style.use('ggplot')\n",
    "\n",
    "data = np.random.normal(0, 1, 10000000)\n",
    "np.var(data)\n",
    "\n",
    "\n",
    "print(\"mean : \", np.mean(data))\n",
    "print(\"var  : \", np.var(data))\n",
    "print(\"skew : \",skew(data))\n",
    "print(\"kurt : \",kurtosis(data))"
   ]
  },
  {
   "cell_type": "code",
   "execution_count": 15,
   "metadata": {},
   "outputs": [
    {
     "data": {
      "text/plain": [
       "(array([4.00000e+00, 1.30000e+01, 2.10000e+01, 4.40000e+01, 9.90000e+01,\n",
       "        2.37000e+02, 4.53000e+02, 9.22000e+02, 1.58700e+03, 2.94000e+03,\n",
       "        4.97000e+03, 8.52700e+03, 1.43310e+04, 2.28750e+04, 3.51650e+04,\n",
       "        5.30670e+04, 7.76130e+04, 1.10105e+05, 1.50621e+05, 2.02062e+05,\n",
       "        2.62003e+05, 3.28529e+05, 4.00632e+05, 4.72684e+05, 5.43225e+05,\n",
       "        6.02822e+05, 6.53062e+05, 6.84547e+05, 6.93023e+05, 6.84858e+05,\n",
       "        6.55306e+05, 6.09047e+05, 5.46420e+05, 4.77584e+05, 4.04957e+05,\n",
       "        3.31233e+05, 2.64353e+05, 2.04712e+05, 1.54940e+05, 1.12272e+05,\n",
       "        7.94430e+04, 5.45350e+04, 3.59700e+04, 2.33820e+04, 1.45440e+04,\n",
       "        8.77500e+03, 5.09900e+03, 2.97100e+03, 1.63300e+03, 8.87000e+02,\n",
       "        4.52000e+02, 2.26000e+02, 1.19000e+02, 4.20000e+01, 3.30000e+01,\n",
       "        1.00000e+01, 7.00000e+00, 3.00000e+00, 1.00000e+00, 3.00000e+00]),\n",
       " array([-4.97095189, -4.79671427, -4.62247665, -4.44823903, -4.27400141,\n",
       "        -4.09976379, -3.92552617, -3.75128855, -3.57705093, -3.40281331,\n",
       "        -3.22857569, -3.05433807, -2.88010046, -2.70586284, -2.53162522,\n",
       "        -2.3573876 , -2.18314998, -2.00891236, -1.83467474, -1.66043712,\n",
       "        -1.4861995 , -1.31196188, -1.13772426, -0.96348664, -0.78924902,\n",
       "        -0.6150114 , -0.44077379, -0.26653617, -0.09229855,  0.08193907,\n",
       "         0.25617669,  0.43041431,  0.60465193,  0.77888955,  0.95312717,\n",
       "         1.12736479,  1.30160241,  1.47584003,  1.65007765,  1.82431526,\n",
       "         1.99855288,  2.1727905 ,  2.34702812,  2.52126574,  2.69550336,\n",
       "         2.86974098,  3.0439786 ,  3.21821622,  3.39245384,  3.56669146,\n",
       "         3.74092908,  3.9151667 ,  4.08940431,  4.26364193,  4.43787955,\n",
       "         4.61211717,  4.78635479,  4.96059241,  5.13483003,  5.30906765,\n",
       "         5.48330527]),\n",
       " <a list of 60 Patch objects>)"
      ]
     },
     "execution_count": 15,
     "metadata": {},
     "output_type": "execute_result"
    },
    {
     "data": {
      "image/png": "[encoded data removed]",
      "text/plain": [
       "<Figure size 432x288 with 1 Axes>"
      ]
     },
     "metadata": {
      "needs_background": "light"
     },
     "output_type": "display_data"
    }
   ],
   "source": [
    "plt.hist(data, bins=60)"
   ]
  },
  {
   "cell_type": "markdown",
   "metadata": {},
   "source": [
    "# NOTE"
   ]
  },
  {
   "cell_type": "markdown",
   "metadata": {},
   "source": [
    "1. Skewness is a parameter to measure the symmetry of a data set.\n",
    "2. Kurtosis to measure how heavy its tails are compared to a normal distribution.\n",
    "3. For more details, please check here https://www.itl.nist.gov/div898/handbook/eda/section3/eda35b.htm"
   ]
  }
 ],
 "metadata": {
  "kernelspec": {
   "display_name": "Python 3",
   "language": "python",
   "name": "python3"
  },
  "language_info": {
   "codemirror_mode": {
    "name": "ipython",
    "version": 3
   },
   "file_extension": ".py",
   "mimetype": "text/x-python",
   "name": "python",
   "nbconvert_exporter": "python",
   "pygments_lexer": "ipython3",
   "version": "3.7.1"
  }
 },
 "nbformat": 4,
 "nbformat_minor": 2
}

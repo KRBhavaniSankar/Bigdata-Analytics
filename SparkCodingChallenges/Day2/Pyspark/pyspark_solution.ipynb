{
 "cells": [
  {
   "cell_type": "code",
   "execution_count": 26,
   "metadata": {},
   "outputs": [
    {
     "name": "stdout",
     "output_type": "stream",
     "text": [
      "----------FILTER----------\n",
      "+-------+---+------+-----+\n",
      "|Name   |Age|Gender|Grade|\n",
      "+-------+---+------+-----+\n",
      "|Charlie|21 |Male  |A    |\n",
      "+-------+---+------+-----+\n",
      "\n",
      "----------WHERE----------\n",
      "+-------+---+------+-----+\n",
      "|Name   |Age|Gender|Grade|\n",
      "+-------+---+------+-----+\n",
      "|Charlie|21 |Male  |A    |\n",
      "+-------+---+------+-----+\n",
      "\n"
     ]
    }
   ],
   "source": [
    "from pyspark.sql import SparkSession\n",
    "from pyspark.sql.functions import col\n",
    "input_path = \"/Users/bhavanisankar/work/Bigdata-Analytics/SparkCodingChallenges/Day1/Dataset/students.csv\"\n",
    "\n",
    "#1. Create spark session\n",
    "spark = SparkSession.Builder().master(\"local[*]\").appName(\"Challege2\").getOrCreate()\n",
    "\n",
    "# 2. Create student dataframe\n",
    "student_df = spark.read.option(\"header\",\"true\").option(\"inferSchema\",\"true\").csv(input_path)\n",
    "#student_df.show(10,False)\n",
    "#student_df.printSchema()\n",
    "\n",
    "# 3. Filter students with Grade A and Age more than 20\n",
    "print(\"-\"*10+\"FILTER\"+\"-\"*10)\n",
    "student_df.filter((col('Age') > 20) &  (col('Grade')== 'A')).show(3,truncate= False)\n",
    "\n",
    "print(\"-\"*10+\"WHERE\"+\"-\"*10)\n",
    "student_df.where((col('Age') > 20) &  (col('Grade')== 'A')).show(3,truncate= False)\n",
    "\n",
    "\n"
   ]
  },
  {
   "cell_type": "code",
   "execution_count": null,
   "metadata": {},
   "outputs": [],
   "source": []
  }
 ],
 "metadata": {
  "kernelspec": {
   "display_name": "base",
   "language": "python",
   "name": "python3"
  },
  "language_info": {
   "codemirror_mode": {
    "name": "ipython",
    "version": 3
   },
   "file_extension": ".py",
   "mimetype": "text/x-python",
   "name": "python",
   "nbconvert_exporter": "python",
   "pygments_lexer": "ipython3",
   "version": "3.11.5"
  }
 },
 "nbformat": 4,
 "nbformat_minor": 2
}

{
 "cells": [
  {
   "cell_type": "code",
   "execution_count": 8,
   "metadata": {},
   "outputs": [
    {
     "name": "stdout",
     "output_type": "stream",
     "text": [
      "----------Original Dataframe----------\n",
      "+---+--------+----------+------+------+\n",
      "|id |name    |department|gender|salary|\n",
      "+---+--------+----------+------+------+\n",
      "|1  |Dakonat |sales     |male  |1900  |\n",
      "|2  |Alice   |IT        |female|2100  |\n",
      "|3  |Gajantut|IT        |male  |1600  |\n",
      "|4  |Rifat   |IT        |female|782   |\n",
      "|5  |Tupur   |IT        |male  |1370  |\n",
      "|6  |Alice   |sales     |male  |1500  |\n",
      "|7  |Bob     |sales     |male  |1000  |\n",
      "|8  |David   |sales     |male  |800   |\n",
      "|9  |Charlie |manager   |male  |1200  |\n",
      "|10 |James   |manager   |male  |1900  |\n",
      "|11 |Alex    |manager   |male  |1200  |\n",
      "|12 |Santa   |HR        |female|1500  |\n",
      "|13 |Shanti  |HR        |female|1100  |\n",
      "|14 |Dakonat |HR        |male  |1000  |\n",
      "|14 |Eli     |HR        |female|1100  |\n",
      "+---+--------+----------+------+------+\n",
      "\n",
      "+---+--------+----------+------+------+\n",
      "|id |name    |department|gender|salary|\n",
      "+---+--------+----------+------+------+\n",
      "|13 |Shanti  |HR        |female|1100  |\n",
      "|14 |Eli     |HR        |female|1100  |\n",
      "|3  |Gajantut|IT        |male  |1600  |\n",
      "|9  |Charlie |manager   |male  |1200  |\n",
      "|11 |Alex    |manager   |male  |1200  |\n",
      "|6  |Alice   |sales     |male  |1500  |\n",
      "+---+--------+----------+------+------+\n",
      "\n"
     ]
    }
   ],
   "source": [
    "from pyspark.sql import SparkSession\n",
    "from pyspark.sql.functions import col,dense_rank\n",
    "from pyspark.sql.window import Window\n",
    "input_path = \"/Users/bhavanisankar/work/Bigdata-Analytics/SparkCodingChallenges/Day5/dataset/employees.csv\"\n",
    "\n",
    "#1. Create spark session\n",
    "spark = SparkSession.Builder().master(\"local[*]\").appName(\"Challege5\").getOrCreate()\n",
    "\n",
    "# 2. Create student dataframe\n",
    "emp_df = spark.read.option(\"header\",\"true\").option(\"inferSchema\",\"true\").csv(input_path)\n",
    "\n",
    "print(\"-\"*10+\"Original Dataframe\"+\"-\"*10)\n",
    "emp_df.show(20,False)\n",
    "\n",
    "# 3. Find employee with nth highest salary from each department.\n",
    "\n",
    "# Create department window \n",
    "dept_window = Window.partitionBy(col('department')).orderBy(col('salary').desc())\n",
    "\n",
    "res_df = emp_df.withColumn('dense_rank',dense_rank().over(dept_window)).filter(col('dense_rank')==2).drop('dense_rank')\n",
    "res_df.show(10,False)\n"
   ]
  },
  {
   "cell_type": "code",
   "execution_count": null,
   "metadata": {},
   "outputs": [],
   "source": []
  }
 ],
 "metadata": {
  "kernelspec": {
   "display_name": "base",
   "language": "python",
   "name": "python3"
  },
  "language_info": {
   "codemirror_mode": {
    "name": "ipython",
    "version": 3
   },
   "file_extension": ".py",
   "mimetype": "text/x-python",
   "name": "python",
   "nbconvert_exporter": "python",
   "pygments_lexer": "ipython3",
   "version": "3.11.5"
  }
 },
 "nbformat": 4,
 "nbformat_minor": 2
}

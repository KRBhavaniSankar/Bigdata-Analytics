{
 "cells": [
  {
   "cell_type": "code",
   "execution_count": 1,
   "metadata": {},
   "outputs": [
    {
     "name": "stderr",
     "output_type": "stream",
     "text": [
      "Setting default log level to \"WARN\".\n",
      "To adjust logging level use sc.setLogLevel(newLevel). For SparkR, use setLogLevel(newLevel).\n",
      "24/04/18 18:19:56 WARN NativeCodeLoader: Unable to load native-hadoop library for your platform... using builtin-java classes where applicable\n",
      "                                                                                \r"
     ]
    },
    {
     "name": "stdout",
     "output_type": "stream",
     "text": [
      "----------Original Dataframe----------\n",
      "+-------+---+------+-----+\n",
      "|Name   |Age|Gender|Grade|\n",
      "+-------+---+------+-----+\n",
      "|Alice  |20 |Female|A    |\n",
      "|Bob    |22 |Male  |B    |\n",
      "|David  |19 |Male  |C    |\n",
      "|Charlie|21 |Male  |A    |\n",
      "|David  |19 |Male  |C    |\n",
      "|Eve    |20 |Female|B    |\n",
      "|Alice  |20 |Female|A    |\n",
      "|David  |19 |Male  |C    |\n",
      "+-------+---+------+-----+\n",
      "\n",
      "__________duplicate records__________\n",
      "----------exceptAll----------\n",
      "+-----+---+------+-----+\n",
      "|Name |Age|Gender|Grade|\n",
      "+-----+---+------+-----+\n",
      "|David|19 |Male  |C    |\n",
      "|Alice|20 |Female|A    |\n",
      "+-----+---+------+-----+\n",
      "\n",
      "----------Using Agg ----------\n",
      "+-----+---+------+-----+\n",
      "|Name |Age|Gender|Grade|\n",
      "+-----+---+------+-----+\n",
      "|David|19 |Male  |C    |\n",
      "|Alice|20 |Female|A    |\n",
      "+-----+---+------+-----+\n",
      "\n"
     ]
    }
   ],
   "source": [
    "from pyspark.sql import SparkSession\n",
    "from pyspark.sql.functions import col,count\n",
    "input_path = \"/Users/bhavanisankar/work/Bigdata-Analytics/SparkCodingChallenges/Day3/Dataset/students.csv\"\n",
    "\n",
    "#1. Create spark session\n",
    "spark = SparkSession.Builder().master(\"local[*]\").appName(\"Challege2\").getOrCreate()\n",
    "\n",
    "# 2. Create student dataframe\n",
    "student_df = spark.read.option(\"header\",\"true\").option(\"inferSchema\",\"true\").csv(input_path)\n",
    "\n",
    "print(\"-\"*10+\"Original Dataframe\"+\"-\"*10)\n",
    "student_df.show(10,False)\n",
    "\n",
    "# 3. Find Unique duplicate records\n",
    "unique_records_df =student_df.distinct()\n",
    "res_df2 = student_df.exceptAll(unique_records_df).distinct()        #Narrow transformation\n",
    "\n",
    "print(\"_\"*10+\"duplicate records\"+\"_\"*10)\n",
    "res_df2.show(10,truncate= False)\n",
    "\n",
    "\n",
    "print(\"-\"*10+\"Using Agg \"+\"-\"*10)\n",
    "\n",
    "#Wide transformation\n",
    "agg_df = student_df.groupBy(student_df.columns).agg(count('*').alias(\"record_count\")).filter(col('record_count')!=1).drop('record_count')\n",
    "agg_df.show(10,False)\n"
   ]
  },
  {
   "cell_type": "code",
   "execution_count": 13,
   "metadata": {},
   "outputs": [
    {
     "name": "stderr",
     "output_type": "stream",
     "text": [
      "[Stage 119:>                                                        (0 + 8) / 8]\r"
     ]
    },
    {
     "name": "stdout",
     "output_type": "stream",
     "text": [
      "+---+---+\n",
      "| C1| C2|\n",
      "+---+---+\n",
      "|  b|  3|\n",
      "|  a|  1|\n",
      "+---+---+\n",
      "\n"
     ]
    },
    {
     "name": "stderr",
     "output_type": "stream",
     "text": [
      "                                                                                \r"
     ]
    }
   ],
   "source": [
    "df1 = spark.createDataFrame([ (\"a\", 1),(\"a\", 1), (\"b\", 3), (\"c\", 4)], [\"C1\", \"C2\"])\n",
    "df2 = spark.createDataFrame([(\"a\", 1), (\"a\", 1), (\"b\", 3)], [\"C1\", \"C2\"])\n",
    "df1.intersect(df2).sort(df1.C1.desc()).show()\n",
    "\n",
    "\n",
    "\n",
    "\n",
    "\n"
   ]
  },
  {
   "cell_type": "code",
   "execution_count": null,
   "metadata": {},
   "outputs": [],
   "source": [
    "from pyspark.sql import SparkSession\n",
    "from pyspark.sql.functions import col\n",
    "input_path = \"/Users/bhavanisankar/work/Bigdata-Analytics/SparkCodingChallenges/Day3/Dataset/students.csv\"\n",
    "\n",
    "#1. Create spark session\n",
    "spark = SparkSession.Builder().master(\"local[*]\").appName(\"Challege2\").getOrCreate()\n",
    "\n",
    "# 2. Create student dataframe\n",
    "student_df = spark.read.option(\"header\",\"true\").option(\"inferSchema\",\"true\").csv(input_path)\n",
    "\n",
    "print(\"-\"*10+\"Original Dataframe\"+\"-\"*10)\n",
    "student_df.show(10,False)\n",
    "\n",
    "# 3. Filter students with Grade A and Age more than 20\n",
    "print(\"-\"*10+\"Find Unique records\"+\"-\"*10)\n",
    "unique_records_df =student_df.distinct()\n",
    "\n",
    "unique_records_df.show(10,False)\n",
    "#res_df1 = student_df.subtract(unique_records_df)\n",
    "res_df2 = student_df.exceptAll(unique_records_df)\n",
    "#res_df3 = student_df.intersect(unique_records_df)\n",
    "#res_df4 = student_df.intersectAll(unique_records_df)\n",
    "\n",
    "#print(\"-\"*10+\"subtract\"+\"-\"*10)\n",
    "#res_df1.show(10,truncate= False)\n",
    "\n",
    "print(\"-\"*10+\"exceptAll\"+\"-\"*10)\n",
    "res_df2.show(10,truncate= False)\n",
    "\n",
    "#print(\"-\"*10+\"intersect\"+\"-\"*10)\n",
    "#res_df3.show(10,truncate= False)\n",
    "\n",
    "#print(\"-\"*10+\"intersectAll\"+\"-\"*10)\n",
    "#res_df4.show(10,truncate= False)\n",
    "\n",
    "\n"
   ]
  }
 ],
 "metadata": {
  "kernelspec": {
   "display_name": "base",
   "language": "python",
   "name": "python3"
  },
  "language_info": {
   "codemirror_mode": {
    "name": "ipython",
    "version": 3
   },
   "file_extension": ".py",
   "mimetype": "text/x-python",
   "name": "python",
   "nbconvert_exporter": "python",
   "pygments_lexer": "ipython3",
   "version": "3.11.5"
  }
 },
 "nbformat": 4,
 "nbformat_minor": 2
}

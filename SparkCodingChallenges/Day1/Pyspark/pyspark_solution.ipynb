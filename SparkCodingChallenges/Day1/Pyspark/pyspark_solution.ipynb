{
 "cells": [
  {
   "cell_type": "code",
   "execution_count": 15,
   "metadata": {},
   "outputs": [
    {
     "name": "stdout",
     "output_type": "stream",
     "text": [
      "+-------+---+------+-----+\n",
      "|Name   |Age|Gender|Grade|\n",
      "+-------+---+------+-----+\n",
      "|Alice  |20 |Female|A    |\n",
      "|Bob    |22 |Male  |B    |\n",
      "|Charlie|21 |Male  |A    |\n",
      "+-------+---+------+-----+\n",
      "only showing top 3 rows\n",
      "\n",
      "Total students: 5\n",
      "average students age: 20.4\n"
     ]
    }
   ],
   "source": [
    "from pyspark.sql import SparkSession\n",
    "\n",
    "input_path = \"/Users/bhavanisankar/work/Bigdata-Analytics/SparkCodingChallenges/Day1/Dataset/students.csv\"\n",
    "\n",
    "#1. Create spark session\n",
    "spark = SparkSession.Builder().master(\"local[*]\").appName(\"Challege1\").getOrCreate()\n",
    "\n",
    "# 2. Create student dataframe\n",
    "student_df = spark.read.option(\"header\",\"true\").option(\"inferSchema\",\"true\").csv(input_path)\n",
    "\n",
    "# 3. Show first \"3\"  records in the dataframe\n",
    "student_df.show(3,truncate= False)\n",
    "\n",
    "# 4. Count no.of students in the dataframe\n",
    "print(f\"Total students: {student_df.count()}\")\n",
    "\n",
    "#5. Calculate average age of the students\n",
    "avg_age =  student_df.select(avg(col(\"age\")).alias(\"avg_age\")).collect()[0][0]\n",
    "print(f\"average students age: {avg_age}\")\n"
   ]
  },
  {
   "cell_type": "code",
   "execution_count": null,
   "metadata": {},
   "outputs": [],
   "source": []
  }
 ],
 "metadata": {
  "kernelspec": {
   "display_name": "base",
   "language": "python",
   "name": "python3"
  },
  "language_info": {
   "codemirror_mode": {
    "name": "ipython",
    "version": 3
   },
   "file_extension": ".py",
   "mimetype": "text/x-python",
   "name": "python",
   "nbconvert_exporter": "python",
   "pygments_lexer": "ipython3",
   "version": "3.11.5"
  }
 },
 "nbformat": 4,
 "nbformat_minor": 2
}
